{
 "cells": [
  {
   "cell_type": "markdown",
   "metadata": {},
   "source": [
    "#  Transform your Pandas Dataframes: Styles, 🎨 Colors, and 😎 Emojis\n",
    "\n",
    "In the following section of this article, we will explore a method to add colors and styles to Pandas DataFrames. Our focus will be on the application of colors and emojis, utilizing approaches similar to the popular conditional formatting commonly employed in pivot tables within spreadsheets. Through this strategy, we aim to enhance the presentation of our data, making the exploration and understanding of information not only informative but also visually appealing\n",
    "\n",
    "---\n",
    "\n",
    "<center>\n",
    "<img src=\"img/pandas_tables.png\" height=\"80%\" width=\"80%\">\n",
    "\n",
    "image generated using [partyrock](https://partyrock.aws/)\n",
    "\n",
    "</center>\n",
    "\n",
    "----"
   ]
  },
  {
   "cell_type": "markdown",
   "metadata": {},
   "source": [
    "# What is Pandas Style?\n",
    "**Pandas Styler** is a great feature that allows to customize the appearance of DataFrames during visualization. This functionality grants users the ability to highlight, color, and format cells based on specific conditions, facilitating the visual identification of patterns and trends in the data. \n",
    "Therefore, Pandas Styler provides an intuitive and flexible interface for applying conditional styles, allowing users to enhance the readability of DataFrames and effectively emphasize key information. This capability not only elevates the visual appeal of the data but also contributes to a clearer and more comprehensible analysis of datasets.\n",
    "\n",
    "---\n",
    "\n",
    "<center>\n",
    "<img src=\"img/pandas_style.jpg\" height=\"80%\" width=\"80%\">\n",
    "</center>\n",
    "\n",
    "----\n",
    "\n",
    "Next we have the code with we are going to create a pivot table using a set of data and from this you will begin to give it different styles and conditional formats such as can be seen in the previous image."
   ]
  },
  {
   "cell_type": "markdown",
   "metadata": {},
   "source": [
    "## 🟣 Pivot Tables\n",
    "\n",
    "> The **pivot table** is a tabular data structure that provides a summarized overview of information from another table, organizing the data based on one variable and displaying values associated with another variable. In this specific scenario, the pivot table organizes the data according to the 'smoker' column and presents the total sum of tips, categorized by the days on which clients consume in the restaurant\n",
    "\n",
    "---\n",
    "\n",
    "### Example\n",
    "The following example shows the `pivot_table` method with the 'tips' DataFrame\n",
    "\n",
    "![](img/pivot_table.png)\n",
    "\n",
    "---\n",
    "\n",
    "\n",
    "\n",
    "`python code`\n",
    "\n",
    "```python\n",
    "import pandas as pd\n",
    "import seaborn as sns\n",
    "\n",
    "# create the tips dataframe \n",
    "data = sns.load_dataset('tips')\n",
    "data_pivot = pd.pivot_table(data,\n",
    "                    index='smoker',\n",
    "                    columns='day',\n",
    "                    values='total_bill',\n",
    "                    aggfunc='sum').reset_index()\n",
    "data_pivot\n",
    "\n",
    "```\n",
    "\n",
    "`ouput`\n",
    "\n",
    "day |\tsmoker |\tThur |\tFri |\tSat\t | Sun      |\n",
    "----|----------|---------|------|--------|----------|\n",
    "0\t| Yes\t| 326.24 |\t252.20\t| 893.62 |\t458.28  |\n",
    "1\t| No\t| 770.09 |\t73.68\t| 884.78 |\t1168.88 |\n",
    "\n"
   ]
  },
  {
   "cell_type": "markdown",
   "metadata": {},
   "source": [
    "## 🟣 Dataframe: Apple Store apps\n",
    "\n",
    "In this analysis, we will use the **'🍎 Apple Store apps'** DataFrame to explore the creation of pivot tables and customization of table styles. This dataset provides detailed insights into Apple App Store applications, covering aspects from app names to specifics like size, price, and ratings. Our objective is to efficiently break down the information while applying styles that enhance the presentation and comprehension of data effectively.\n",
    "\n",
    "The dataset was downloaded from [Kaggle](https://www.kaggle.com/ramamet4/app-store-apple-data-set-10k-apps) and it contains more than 7000 Apple iOS mobile application details. It is important to note that the data was collected in July 2017.\n",
    "\n",
    "----\n",
    "\n",
    "### Data Schema overview\n",
    "\n",
    "column_name | column description\n",
    "-----------|-----------------------------------|\n",
    "track_name | the column contains the name of the app.|\n",
    "size_bytes | the column contains the size of the app in bytes.|\n",
    "currency | the column contains the currency type.|\n",
    "price | the column contains the price of the app.|\n",
    "rating_count_tot | the column contains the total number of ratings.|\n",
    "rating_count_ver | the column contains the number of ratings for the current version of the app.|\n",
    "user_rating | the column contains the average user rating for the app.|\n",
    "user_rating_ver | the column contains the average user rating for the current version of the app.|\n",
    "ver | the column contains the current version of the app.|\n",
    "cont_rating | the column contains the content rating.|\n",
    "prime_genre | the column contains the primary genre.|\n",
    "sup_devices.num | the column contains the number of supported devices.|\n",
    "ipadSc_urls.num | the column contains the number of screenshots showed for display.|\n",
    "lang.num | the column contains the number of supported languages.|\n",
    "vpp_lic | the column contains the Vpp Device Based Licensing Enabled.|"
   ]
  },
  {
   "cell_type": "markdown",
   "metadata": {},
   "source": [
    "## 🟣 Create Dataframe\n",
    "In the following code chunk, we will create a DataFrame by reading the CSV file."
   ]
  },
  {
   "cell_type": "code",
   "execution_count": null,
   "metadata": {},
   "outputs": [],
   "source": [
    "import pandas as pd\n",
    "import numpy as np\n",
    "import math\n",
    "import matplotlib.pyplot as plt\n",
    "import warnings\n",
    "\n",
    "# Deactivate pandas warning\n",
    "warnings.filterwarnings('ignore')\n",
    "\n",
    "\n",
    "print(\"Python Libraries version:\")\n",
    "print('--'*20)\n",
    "print(\"Pandas version: \", pd.__version__)\n",
    "print(\"Numpy version: \", np.__version__)\n",
    "print(\"Matplotlib version: \", plt.matplotlib.__version__)"
   ]
  },
  {
   "cell_type": "code",
   "execution_count": null,
   "metadata": {},
   "outputs": [],
   "source": [
    "# Create a dataframe from a csv file\n",
    "path='data/AppleStore.csv'\n",
    "data =pd.read_csv(path,sep=';')\n",
    "data.head()"
   ]
  },
  {
   "cell_type": "markdown",
   "metadata": {},
   "source": [
    "## 🟣 Pivot Table\n",
    "In the next step, we are going to create a pivot table from a DataFrame."
   ]
  },
  {
   "cell_type": "code",
   "execution_count": null,
   "metadata": {},
   "outputs": [],
   "source": [
    "# Pivot table\n",
    "\n",
    "# filter the data to keep only the top 15 genres\n",
    "top_genre = data.value_counts('prime_genre')[:15].index.tolist()\n",
    "tmp = data.loc[data['prime_genre'].isin(top_genre),['prime_genre','user_rating','price']]\n",
    "\n",
    "# create a new column with the rating rounded to the nearest integer\n",
    "tmp['user_rating'] = [f'rating_{str(math.trunc(item))}' for item in  tmp['user_rating']]\n",
    "\n",
    "# create a pivot table\n",
    "tmp_pivot = (\n",
    "        pd.pivot_table(\n",
    "            data = tmp,\n",
    "            columns='user_rating',\n",
    "            index='prime_genre',\n",
    "            values='price',\n",
    "            aggfunc='mean',\n",
    "            fill_value=0\n",
    "            ).reset_index().round(2)\n",
    ")\n",
    "# rename the columns\n",
    "tmp_pivot.columns.name=''\n",
    "# print the pivot table\n",
    "tmp_pivot"
   ]
  },
  {
   "cell_type": "markdown",
   "metadata": {},
   "source": [
    "## 🟣 Styling with Pandas\n",
    "\n",
    "Now we will explore the `style` module in Pandas, that enables us to enhance the visual presentation of DataFrames. The `style` module provides a differents of options to modify the appearance of the data, allowing us to customize aspects such as:\n",
    "\n",
    "- **Coloring Cells:** Apply different colors based on cell values or conditions.\n",
    "- **Highlighting:** Emphasize specific rows, columns, or values.\n",
    "- **Formatting:** Adjust the format of the displayed values, including precision and alignment.\n",
    "- **Bar Charts:** Represent data with horizontal or vertical bar charts within cells.\n",
    "  \n"
   ]
  },
  {
   "cell_type": "markdown",
   "metadata": {},
   "source": [
    "### 🎨 Styling: Setting Background Color for Headers"
   ]
  },
  {
   "cell_type": "code",
   "execution_count": null,
   "metadata": {},
   "outputs": [],
   "source": [
    "# Styling: Changing Background Color for Column Headers\n",
    "headers = {\n",
    "    'selector': 'th.col_heading',\n",
    "    'props': 'background-color: #5E17EB; color: white;'\n",
    "}\n",
    "\n",
    "index_style = {\n",
    "    'selector': 'th.index_name',\n",
    "    'props': 'background-color: #5E17EB; color: white;'\n",
    "}\n",
    "\n",
    "tmp_pivot_style = (\n",
    "    tmp_pivot\n",
    "        .style\n",
    "            .set_table_styles([headers,index_style])\n",
    "            .set_properties(**{'background-color': '#ECE3FF','color': 'black'})\n",
    ")\n",
    "\n",
    "tmp_pivot_style\n"
   ]
  },
  {
   "cell_type": "markdown",
   "metadata": {},
   "source": [
    "### 🎨 Style: Setting the background color for a particular cell\n",
    "\n",
    "In following code snippet illustrates how to set a custom background color for a particular cell in our DataFrame using pandas styling."
   ]
  },
  {
   "cell_type": "code",
   "execution_count": null,
   "metadata": {},
   "outputs": [],
   "source": [
    "(\n",
    "    tmp_pivot\n",
    "        .style\n",
    "            .set_table_styles([headers, index_style])\n",
    "            .set_properties(**{'background-color': '#ECE3FF', 'color': 'black'})\n",
    "            .set_properties(**{'background-color': '#FD636B', 'color': 'white'},subset=pd.IndexSlice[4, 'rating_5'])\n",
    ")\n"
   ]
  },
  {
   "cell_type": "markdown",
   "metadata": {},
   "source": [
    "### 🎨 Style: Setting the background color for max/min values in the dataframe\n",
    "\n",
    "Now, we will focus on highlighting the maximum and minimum values in our DataFrame. For this reason, we will assign distinctive background colors to these extreme values, facilitating a quicker and more intuitive understanding of the dataset. The code snippet below demonstrates how to implement this stylistic enhancement."
   ]
  },
  {
   "cell_type": "code",
   "execution_count": null,
   "metadata": {},
   "outputs": [],
   "source": [
    "# select the columns that start with 'rating_'\n",
    "columns = tmp_pivot.columns[tmp_pivot.columns.str.startswith('rating_')]\n",
    "\n",
    "# get the max and min values\n",
    "max_value = tmp_pivot[columns].max().max()\n",
    "min_value = tmp_pivot[columns].min().min()\n",
    "\n",
    "# Establecer el estilo para la celda con el valor máximo\n",
    "max_style = f'border: 4px solid #3BE8B0 !important;'\n",
    "\n",
    "# Establecer el estilo para la celda con el valor mínimo\n",
    "min_style = f'background-color: #FF66C4; '\n",
    "\n",
    "(\n",
    "    tmp_pivot\n",
    "        .style\n",
    "            .set_table_styles([headers, index_style])\n",
    "            .set_properties(**{'background-color': '#ECE3FF', 'color': 'black'})\n",
    "            .set_properties(**{'background-color': '#FD636B', 'color': 'white'}, subset=pd.IndexSlice[4, 'rating_5'])\n",
    "            .applymap(lambda x: max_style if x == max_value else '')\n",
    "            .applymap(lambda x: min_style if x == min_value else '', subset=columns)\n",
    ")\n"
   ]
  },
  {
   "cell_type": "markdown",
   "metadata": {
    "notebookRunGroups": {
     "groupValue": "2"
    }
   },
   "source": [
    "### 🎨 Style: Color Background Gradients\n",
    "\n",
    "In the upcoming section, we will delve into the concept of color maps, representing a spectrum of colors arranged in a gradient. A colormap, essentially a palette of colors, consists of distinctive denominations, with the most popular ones being **['viridis,' 'magma,' 'Greens,' 'Reds']**.\n",
    "\n",
    "The primary objective behind creating these color spectrums is to enhance the visual representation of data. Each color in the gradient carries specific nuances, contributing to a more nuanced  data visualization experience. \n",
    "\n",
    "For an extensive array of color options, you can explore the [matplotlib colormaps](https://matplotlib.org/3.1.0/tutorials/colors/colormaps.html) link."
   ]
  },
  {
   "cell_type": "code",
   "execution_count": null,
   "metadata": {},
   "outputs": [],
   "source": [
    "import matplotlib.pyplot as plt\n",
    "import numpy as np\n",
    "\n",
    "# Define the colormap\n",
    "for cmap_item in ['viridis', 'magma','Greens','Reds']:\n",
    "    cmap = plt.get_cmap(cmap_item)\n",
    "    # Create a color gradient\n",
    "    gradient = np.linspace(0, 1, 256).reshape(1, -1)\n",
    "\n",
    "    # Display the color palette\n",
    "    plt.figure(figsize=(10, 0.2))\n",
    "    plt.imshow(gradient, aspect='auto', cmap=cmap)\n",
    "    plt.axis('off')\n",
    "    plt.title(f'{cmap_item.capitalize()} Color Palette', loc='left', fontsize=9)\n",
    "    plt.show()\n"
   ]
  },
  {
   "cell_type": "markdown",
   "metadata": {},
   "source": [
    "> #### Viridis palette\n",
    "> Now, we will apply a color gradient to our pivot table, allowing you to observe how it is colored using the Viridis palette. In this context, lighter colors signify larger values within the distribution, while darker shades correspond to smaller values in the distribution. This approach provides a visual representation that intuitively conveys the magnitude of the data, making it easier to discern patterns and variations across the dataset."
   ]
  },
  {
   "cell_type": "code",
   "execution_count": null,
   "metadata": {},
   "outputs": [],
   "source": [
    "plt.get_cmap('viridis',lut=20)"
   ]
  },
  {
   "cell_type": "code",
   "execution_count": null,
   "metadata": {},
   "outputs": [],
   "source": [
    "(\n",
    "    tmp_pivot\n",
    "        .style\n",
    "            .set_table_styles([headers, index_style])\n",
    "            .background_gradient(cmap='viridis',subset=columns)\n",
    ")"
   ]
  },
  {
   "cell_type": "markdown",
   "metadata": {},
   "source": [
    "### 🎨 Style: Color Background in columns\n",
    "\n",
    "In the next code chunk, we will enhance the visual representation of our pivot table by introducing distinct color backgrounds to specific columns. This technique aids in better highlighting and categorizing data, making it easier to draw insights from the table."
   ]
  },
  {
   "cell_type": "code",
   "execution_count": null,
   "metadata": {},
   "outputs": [],
   "source": [
    "(\n",
    "    tmp_pivot\n",
    "        .style\n",
    "            .set_table_styles([headers, index_style])\n",
    "            .set_properties(**{'background-color': '#FFCFC9','color':'black'},subset=['rating_0','rating_1'])\n",
    "            .set_properties(**{'background-color': '#FFF1B0','color':'black'},subset=['rating_2','rating_3'])\n",
    "            .set_properties(**{'background-color': '#BEEAE5','color':'black'},subset=['rating_4','rating_5'])\n",
    ")"
   ]
  },
  {
   "cell_type": "markdown",
   "metadata": {},
   "source": [
    "### 🎨 Style: Color Bar\n",
    "\n",
    "In this section, we will implement the style.bar function to introduce a dynamic color bar into our DataFrame. The color bar provides a visual representation of data values, assigning varying colors to different data ranges. "
   ]
  },
  {
   "cell_type": "code",
   "execution_count": null,
   "metadata": {},
   "outputs": [],
   "source": [
    "(\n",
    "    tmp_pivot\n",
    "        .style\n",
    "            .set_table_styles([headers, index_style])\n",
    "            .set_properties(**{'background-color': '#ECE3FF', 'color': 'black'})\n",
    "            .set_properties(**{'background-color': 'white','color':'black'},subset=columns)\n",
    "            .bar(color='#FFCFC9',subset=['rating_0','rating_1'])\n",
    "            .bar(color='#FFF1B0',subset=['rating_2','rating_3'])\n",
    "            .bar(color='#BEEAE5',subset=['rating_4','rating_5'])\n",
    " )"
   ]
  },
  {
   "cell_type": "markdown",
   "metadata": {},
   "source": [
    "### 🎨 Style: Image in Columns\n",
    "\n",
    "In this section, we explore the enhancement of data representation by adding an image to an additional column. This approach provides an alternative method to elevate the visual impact of the data being presented. These images can serve as icons, represent brands, or convey additional visual elements to captivate and engage the audience."
   ]
  },
  {
   "cell_type": "code",
   "execution_count": null,
   "metadata": {},
   "outputs": [],
   "source": [
    "# create a function to add an image to the dataframe depending on the genre\n",
    "def add_image(image_name):\n",
    "    img_url = f\"img/icons/img_{image_name}.png\"\n",
    "    width   = \"width: 50px\"\n",
    "    height  = \"height: 50px\"\n",
    "    text_align =\"center\"\n",
    "    return f'{width};{height}; content: url({img_url}); text-align:{text_align}'\n",
    "\n",
    "# apply the function to the dataframe\n",
    "styled_df = (\n",
    "    tmp_pivot\n",
    "        .head(5)\n",
    "        .reset_index()\n",
    "        .rename({'index': 'genre'}, axis=1)\n",
    "        .style.applymap(add_image, subset=pd.IndexSlice[:, ['genre']])\n",
    "        .set_table_styles([headers, index_style])\n",
    "        .set_properties(**{'background-color': '#ECE3FF', 'color': 'black'})\n",
    ")\n",
    "\n",
    "# display the dataframe with the images\n",
    "display(styled_df)\n"
   ]
  },
  {
   "cell_type": "markdown",
   "metadata": {},
   "source": [
    "> **Disclaimer: Issues with Notebook Cache**\n",
    "> \n",
    "> During the creation of this content, I encountered difficulties related to the notebook cache. Despite making changes to the images, the visualization did not update correctly. Even after attempting to restart the kernel and clear the cell output, the problem persisted. The only effective solution I found was to change the file names of the images, thus avoiding unexpected cache behavior.\n",
    "> \n",
    "> It's important to note that these issues may be specific to the Jupyter Notebooks environment and may not reflect inherent limitations in the code or libraries used. While I tried to address this problem, I did not find a complete solution and opted for an alternative fix by changing the file names.\n",
    "> \n",
    "> I appreciate your understanding and patience. If you have suggestions or additional solutions, I would be delighted to learn and improve this process.\n",
    "\n",
    "---"
   ]
  },
  {
   "cell_type": "markdown",
   "metadata": {},
   "source": [
    "### 🎨 Style: Emoji Representation Based on Percentile Values\n",
    "\n",
    "In this section, we delve into the creative use of emojis based on percentile values, offering a distinctive approach to elevate data representation. By incorporating diverse emojis, we enhance the visual impact of the data. Specifically, we employ circles and squads as emojis to bring nuanced expressions to our data points.\n",
    "\n",
    "We have two functions have been created to accomplish this, one function operates on columns, while the other operates on rows. This functionality recreate the conditional formatting features found in spreadsheet applications."
   ]
  },
  {
   "cell_type": "code",
   "execution_count": null,
   "metadata": {},
   "outputs": [],
   "source": [
    "def get_percentiles(row_data, bins=3, emoji='circle'):\n",
    "    emoji_labels = {\n",
    "        'circle': {3: ['🔴', '🟡', '🟢'], \n",
    "                   4: ['🔴', '🟠', '🟡', '🟢']},\n",
    "        'squad': {3: ['🟥', '🟨', '🟩'], \n",
    "                  4: ['🟥', '🟨', '🟧', '🟩']}\n",
    "    }\n",
    "\n",
    "    if emoji in ['max', 'min', 'min_max']:\n",
    "        return create_series(row_data, emoji)\n",
    "    elif emoji in emoji_labels and bins in emoji_labels[emoji]:\n",
    "        labels = emoji_labels[emoji][bins]\n",
    "        return pd.cut(row_data, bins=len(labels), labels=labels, ordered=False)\n",
    "    else:\n",
    "        return row_data\n",
    "\n",
    "def create_series(row_data, emoji):\n",
    "    if emoji == 'max':\n",
    "        return pd.Series(['🟩' if item == row_data.max() else '⬜' for item in row_data])\n",
    "    elif emoji == 'min':\n",
    "        return pd.Series(['🟥' if item == row_data.min() else '⬜' for item in row_data])\n",
    "    elif emoji == 'min_max':\n",
    "        return pd.Series(['🟥' if item == row_data.min() else '🟩' if item == row_data.max() else '⬜' for item in row_data])\n",
    "\n",
    "def get_conditional_table_column(data, bins=3, emoji='circle'):\n",
    "    tmp = data.copy()\n",
    "    for column in data.columns:\n",
    "        if pd.api.types.is_numeric_dtype(data[column]):\n",
    "            row_data_emoji = get_percentiles(data[column], bins, emoji).astype(str)\n",
    "            tmp[column] = data[column].astype(str) + ' ' + row_data_emoji\n",
    "    return tmp\n",
    "\n",
    "def get_conditional_table_row(data, bins=3, emoji='circle'):\n",
    "    response_values = []\n",
    "    column_str = [item for item in data.columns if data[item].dtypes not in ['int64', 'float64']]\n",
    "    columns_num = [item for item in data.columns if data[item].dtypes in ['int64', 'float64']]\n",
    "\n",
    "    for row in range(data.shape[0]):\n",
    "        row_data = data.loc[row, columns_num]\n",
    "        percentil = get_percentiles(row_data, bins, emoji)\n",
    "        row_data = row_data.apply(lambda x: '{:.2f}'.format(x))\n",
    "        percentil_values = [str(row_data[item]) + ' ' + percentil[item] for item in range(percentil.shape[0])]\n",
    "        response_values.append(percentil_values)\n",
    "\n",
    "    result_df = pd.DataFrame(response_values).round(2)\n",
    "    result_df.columns = columns_num\n",
    "    result_df = pd.concat([data[column_str], result_df], axis=1)\n",
    "    return result_df"
   ]
  },
  {
   "cell_type": "code",
   "execution_count": null,
   "metadata": {},
   "outputs": [],
   "source": [
    "# get conditional table by column with 3 bins \n",
    "get_conditional_table_row(data=tmp_pivot,emoji='min_max')"
   ]
  },
  {
   "cell_type": "code",
   "execution_count": null,
   "metadata": {},
   "outputs": [],
   "source": [
    "# get conditional table by column using the min value \n",
    "get_conditional_table_column(data=tmp_pivot,emoji='min')"
   ]
  },
  {
   "cell_type": "code",
   "execution_count": null,
   "metadata": {},
   "outputs": [],
   "source": [
    "# get conditional table by column using the max value\n",
    "get_conditional_table_column(data=tmp_pivot,emoji='max')"
   ]
  },
  {
   "cell_type": "code",
   "execution_count": null,
   "metadata": {},
   "outputs": [],
   "source": [
    "# get conditional table by column using the circle emoji with 4 bins\n",
    "get_conditional_table_column(data=tmp_pivot,emoji='circle',bins=4)"
   ]
  },
  {
   "cell_type": "markdown",
   "metadata": {},
   "source": [
    "## 📚 References\n",
    "If you want to learn...\n",
    "* [🐼 Pandas Style Documentation](https://pandas.pydata.org/docs/user_guide/style.html)"
   ]
  }
 ],
 "metadata": {
  "kernelspec": {
   "display_name": "Python 3",
   "language": "python",
   "name": "python3"
  },
  "language_info": {
   "codemirror_mode": {
    "name": "ipython",
    "version": 3
   },
   "file_extension": ".py",
   "mimetype": "text/x-python",
   "name": "python",
   "nbconvert_exporter": "python",
   "pygments_lexer": "ipython3",
   "version": "3.11.8"
  }
 },
 "nbformat": 4,
 "nbformat_minor": 2
}
